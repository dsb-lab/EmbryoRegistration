{
 "cells": [
  {
   "cell_type": "markdown",
   "metadata": {},
   "source": [
    "# Image Registration with ImageJ Fijiyama\n",
    "\n",
    "Helper python package for 3D image registration using the Image J package Fijiyama (https://imagej.net/plugins/fijiyama, R. Fernandez and C. Moisy, (2020) Fijiyama: a registration tool for 3D multimodal time-lapse imaging. *Bioinformatics*)\n",
    "\n",
    "Feel free to distribute and use for whatever non-profit use. "
   ]
  },
  {
   "cell_type": "markdown",
   "metadata": {},
   "source": [
    "Let's start by importing the packages"
   ]
  },
  {
   "cell_type": "code",
   "execution_count": null,
   "metadata": {},
   "outputs": [],
   "source": [
    "import numpy as np\n",
    "import os\n",
    "from pyjiyama import (square_stack4D, centroid_correction_3d_based_on_mid_plane, generate_fijiyama_file_system, \n",
    "                     generate_fijiyama_stacks, openfiji, remove_dir, create_transformations_folders, move_transformation,\n",
    "                     create_dir, correct_path, read_img_with_resolution, get_file_names)"
   ]
  },
  {
   "cell_type": "markdown",
   "metadata": {},
   "source": [
    "Now define your path to the data in the following way and the code you want to give to the registered series."
   ]
  },
  {
   "cell_type": "code",
   "execution_count": null,
   "metadata": {},
   "outputs": [],
   "source": [
    "home = os.path.expanduser(\"~\")\n",
    "path_data = home + \"/Desktop/PhD/projects/Data/blastocysts/Lana/20230607_CAG_H2B_GFP_16_cells/stack_2_channel_0_obj_bottom/crop/volumes/\"\n",
    "embcode = \"20230607_CAG_H2B_GFP_16_cells_stack2_part2\""
   ]
  },
  {
   "cell_type": "markdown",
   "metadata": {},
   "source": [
    "#### DISCLAIMER: These first cells are only for the case in which you have your data as individual time files.\n",
    "\n",
    "Load the file list in that folder"
   ]
  },
  {
   "cell_type": "code",
   "execution_count": null,
   "metadata": {},
   "outputs": [],
   "source": [
    "files = get_file_names(path_data)"
   ]
  },
  {
   "cell_type": "markdown",
   "metadata": {},
   "source": [
    "I like to make sure there is no file names in the list other that tif files in the following manner"
   ]
  },
  {
   "cell_type": "code",
   "execution_count": null,
   "metadata": {},
   "outputs": [],
   "source": [
    "files = get_file_names(path_data)\n",
    "for file in files: \n",
    "    if \".tif\" not in file:\n",
    "        files.remove(file) "
   ]
  },
  {
   "cell_type": "markdown",
   "metadata": {},
   "source": [
    "Usually these files are not properly ordered so that's the next step. "
   ]
  },
  {
   "cell_type": "code",
   "execution_count": null,
   "metadata": {},
   "outputs": [],
   "source": [
    "# sort filename \n",
    "current_order = []\n",
    "for filename in files:\n",
    "    if \".tif\" not in filename: continue\n",
    "    idx = filename.find(\".tif\")\n",
    "    filecode=int(filename[:idx])\n",
    "    current_order.append(filecode)\n",
    "    \n",
    "idxs_sort = np.argsort(current_order) \n",
    "files = [files[idx] for idx in idxs_sort]"
   ]
  },
  {
   "cell_type": "markdown",
   "metadata": {},
   "source": [
    "Now create 4D stack of the files you want to register"
   ]
  },
  {
   "cell_type": "code",
   "execution_count": null,
   "metadata": {},
   "outputs": [],
   "source": [
    "_IMGS = []\n",
    "for filename in files[50:52]:\n",
    "    _IMG, xyres, zres = read_img_with_resolution(path_data + filename)\n",
    "    _IMGS.append(_IMG[0])"
   ]
  },
  {
   "cell_type": "markdown",
   "metadata": {},
   "source": [
    "#### DISCLAIMER: In case you have your stack as a 4D stack already, uncomment the first line of the next cell and start directly here.\n",
    "\n",
    "Square stacks so that `x` and `y` dimensions are equal and remove non-squared stack to free some memory"
   ]
  },
  {
   "cell_type": "code",
   "execution_count": null,
   "metadata": {},
   "outputs": [],
   "source": [
    "# _IMGS, xyres, zres = read_img_with_resolution(path_data + filename)\n",
    "IMGS = square_stack4D(np.array(_IMGS))\n",
    "del _IMGS"
   ]
  },
  {
   "cell_type": "markdown",
   "metadata": {},
   "source": [
    "Make sure that there are no pixels over `255` (above saturation value, this can happen, for example, if you combine two channels for the registration) and convert to `uint8` for memory saving"
   ]
  },
  {
   "cell_type": "code",
   "execution_count": null,
   "metadata": {},
   "outputs": [],
   "source": [
    "t, z, x, y = np.where(IMGS > 255)\n",
    "IMGS[t, z, x, y] = 255\n",
    "IMGS = IMGS.astype(\"uint8\")"
   ]
  },
  {
   "cell_type": "markdown",
   "metadata": {},
   "source": [
    "Now we have the data ready to start the registration process. \n",
    "\n",
    "### Centroid correction\n",
    "\n",
    "Before passing the stack to fijiyama I like to ran a centroid correction in case there is a lot of traslation on the `xy` plane to reduce possible errors in fijiyama and improve fijiyama performance. If you have more than one channel pass them as a list of 4D arrays to the `extra_IMGS` keyword argument. If you do not do this, when you apply the fijiyama registration to the extra channels is going to look displaced since the fijiyama registration is going to be performed on the centroid corrected stacks."
   ]
  },
  {
   "cell_type": "code",
   "execution_count": null,
   "metadata": {},
   "outputs": [],
   "source": [
    "IMGS_corrected, extra_IMGS_corrected = centroid_correction_3d_based_on_mid_plane(IMGS, extra_IMGS=[])\n",
    "del IMGS\n",
    "IMGS_corrected = IMGS_corrected.astype(\"uint8\")\n",
    "extra_IMGS_corrected = np.array(extra_IMGS_corrected).astype(\"uint8\")"
   ]
  },
  {
   "cell_type": "markdown",
   "metadata": {},
   "source": [
    "### Fijiyama registration\n",
    "\n",
    "Now we create the file system that Fijiyama requires. What this does is create a folder names `movies_registered` (or whatever name you want to give it). Inside this, it adds an output folder and an input folder where the split images are going to be saved"
   ]
  },
  {
   "cell_type": "code",
   "execution_count": null,
   "metadata": {},
   "outputs": [],
   "source": [
    "(\n",
    "    path_registered,\n",
    "    path_output,\n",
    "    path_movies_reg,\n",
    ") = generate_fijiyama_file_system(\n",
    "    path_data, \"movies_registered\", embcode\n",
    ")"
   ]
  },
  {
   "cell_type": "markdown",
   "metadata": {},
   "source": [
    "Now we save the stakcs for the individual times in the input folder. The format I use for the file names is `t{Time}.tif`"
   ]
  },
  {
   "cell_type": "code",
   "execution_count": null,
   "metadata": {},
   "outputs": [],
   "source": [
    "generate_fijiyama_stacks(\n",
    "    path_registered, IMGS_corrected, xyres, zres, file_format=\"t%d.tif\"\n",
    ")"
   ]
  },
  {
   "cell_type": "markdown",
   "metadata": {},
   "source": [
    "Now we are ready to open Fiji and run Fijiyama as described in the instructions from Fijiyama plugin site (https://imagej.net/plugins/fijiyama). Put your path to ImageJ on `path_to_fiji`."
   ]
  },
  {
   "cell_type": "code",
   "execution_count": null,
   "metadata": {},
   "outputs": [],
   "source": [
    "path_to_fiji = \"/opt/Fiji.app/ImageJ-linux64\"\n",
    "openfiji(path_to_fiji=path_to_fiji)"
   ]
  },
  {
   "cell_type": "markdown",
   "metadata": {},
   "source": [
    "Now registration should be finished and is time to organize the remove temporal files created and organize the results. First, let't remove the temporal input stacks that we created. "
   ]
  },
  {
   "cell_type": "code",
   "execution_count": null,
   "metadata": {},
   "outputs": [],
   "source": [
    "remove_dir(path_registered)"
   ]
  },
  {
   "cell_type": "markdown",
   "metadata": {},
   "source": [
    "Create a folder to store registration transformation files and move them from the Fijiyama created folder to our newly created folder "
   ]
  },
  {
   "cell_type": "code",
   "execution_count": null,
   "metadata": {},
   "outputs": [],
   "source": [
    "# Create transformation folders\n",
    "(\n",
    "    path_trans_emb_global,\n",
    "    path_trans_emb_steps,\n",
    ") = create_transformations_folders(\n",
    "    path_movies_reg, embcode, trans_folder=\"transformations\"\n",
    ")\n",
    "\n",
    "# Move transformations\n",
    "move_transformation(\n",
    "    path_output, path_trans_emb_global, path_trans_emb_steps\n",
    ")"
   ]
  },
  {
   "cell_type": "markdown",
   "metadata": {},
   "source": [
    "Now we remove the Fijiyama output folder since the only thing we care about now is the transformations files and we have already moved them from the Fijiyama output folder. If you still would like to keep this folder skip the following cell."
   ]
  },
  {
   "cell_type": "code",
   "execution_count": null,
   "metadata": {},
   "outputs": [],
   "source": [
    "remove_dir(path_output)\n"
   ]
  },
  {
   "cell_type": "markdown",
   "metadata": {},
   "source": [
    "### Apply transformations\n",
    "\n",
    "Is time to apply the obtained transformations to the original stack or to any other. For example, if we had an stack with more than one channel, we can now apply the transformations to every channel. \n",
    "\n",
    "We start by creating a temporal folder to save the 3D stacks to which we are going to apply the transformations. We also create the 5D stack with the shape `(C, T, Z, X, Y)` which we want to register."
   ]
  },
  {
   "cell_type": "code",
   "execution_count": null,
   "metadata": {},
   "outputs": [],
   "source": [
    "path_movies_reg_embcode = create_dir(\n",
    "    path_movies_reg, embcode, return_path=True, rem=True\n",
    ")\n",
    "IMGS_chs = np.array([IMGS_corrected, *extra_IMGS_corrected])"
   ]
  },
  {
   "cell_type": "markdown",
   "metadata": {},
   "source": [
    "Preallocate the array where the registered images will be allocated"
   ]
  },
  {
   "cell_type": "code",
   "execution_count": null,
   "metadata": {},
   "outputs": [],
   "source": [
    "registered_IMGS_chs = np.zeros_like(np.array(IMGS_chs))"
   ]
  },
  {
   "cell_type": "markdown",
   "metadata": {},
   "source": [
    "We can now loop for each channel and apply the corresponding transformations to each of the stacks using a beanshell script. However, before doing that make sure yout path to beanshell is correct. In my case is the following (If yours is different modify that line)."
   ]
  },
  {
   "cell_type": "code",
   "execution_count": null,
   "metadata": {},
   "outputs": [],
   "source": [
    "pth_beanshell = \"/opt/Fiji.app/beanshell/bsh-2.0b4.jar\""
   ]
  },
  {
   "cell_type": "markdown",
   "metadata": {},
   "source": [
    "We can now apply the transformations now. The first line in the cell finds your pyjiyama installation to locate the beanshell script used for applying the transformations. "
   ]
  },
  {
   "cell_type": "code",
   "execution_count": null,
   "metadata": {},
   "outputs": [],
   "source": [
    "from pyjiyama import __file__ as pyjiyama_path\n",
    "\n",
    "for ch, IMGS_ch in enumerate(IMGS_chs):\n",
    "    path_movies_reg_embcode_ch = create_dir(\n",
    "        path_movies_reg_embcode, \"%d\" % ch, return_path=True, rem=True\n",
    "    )\n",
    "    path_movies_reg_embcode_ch_reg = create_dir(\n",
    "        path_movies_reg_embcode, \"registered_%d\" % ch, return_path=True, rem=True\n",
    "    )\n",
    "\n",
    "    generate_fijiyama_stacks(\n",
    "        path_movies_reg_embcode_ch,\n",
    "        IMGS_ch,\n",
    "        xyres,\n",
    "        zres,\n",
    "        file_format=\"t%d.tif\",\n",
    "        rem=True,\n",
    "    )\n",
    "\n",
    "    # Define where you have the beanshell class to be called from beanshell\n",
    "    text_to_write = \"\\n\".join(\n",
    "        [\n",
    "            pth_beanshell,\n",
    "            path_trans_emb_global,\n",
    "            path_movies_reg_embcode_ch,\n",
    "            correct_path(path_movies_reg_embcode_ch_reg),\n",
    "        ]\n",
    "    )\n",
    "    # Save path information in a text file to be open in beanshell.\n",
    "    temporal_file = correct_path(home) + \"tmp.txt\"\n",
    "    with open(temporal_file, \"w\") as the_file:\n",
    "        the_file.write(text_to_write)\n",
    "\n",
    "    # Run Beanshell script\n",
    "    idx = pyjiyama_path.rfind('/')\n",
    "    pth_beanshell_script = (\n",
    "        correct_path(\n",
    "            pyjiyama_path[:idx]\n",
    "        )\n",
    "        + \"utils/apply_transformation.bsh\"\n",
    "    )\n",
    "    import subprocess\n",
    "\n",
    "    subprocess.run(\n",
    "        [path_to_fiji, \"--headless\", pth_beanshell_script]\n",
    "    )  # , stdout=subprocess.DEVNULL, stderr=subprocess.DEVNULL)\n",
    "\n",
    "    remove_dir(path_movies_reg_embcode_ch)\n",
    "    # Remove path file\n",
    "    os.remove(temporal_file)\n",
    "\n",
    "    tfiles = os.listdir(path_movies_reg_embcode_ch_reg)\n",
    "    for _t, tfile in enumerate(tfiles):\n",
    "        registered_IMGS_chs[ch]\n",
    "        t = int(tfile.split(\".\")[0].split(\"t\")[-1]) - 1\n",
    "        IMG_t, xyres, zres = read_img_with_resolution(\n",
    "            correct_path(path_movies_reg_embcode_ch_reg) + tfile,\n",
    "            channel=None,\n",
    "        )\n",
    "        registered_IMGS_chs[ch][t] = IMG_t\n",
    "\n",
    "registered_IMGS_chs = registered_IMGS_chs.astype(\"uint8\")\n"
   ]
  },
  {
   "cell_type": "markdown",
   "metadata": {},
   "source": [
    "Reorder the stack from `(C, T, Z, X, Y)` to `(T, Z, C, X, Y)`"
   ]
  },
  {
   "cell_type": "code",
   "execution_count": null,
   "metadata": {},
   "outputs": [],
   "source": [
    "sh = registered_IMGS_chs.shape\n",
    "final_registered_IMGS_chs = np.zeros((sh[1], sh[2], sh[0], sh[3], sh[4])).astype(\n",
    "    \"uint8\"\n",
    ")\n",
    "for ch in range(sh[0]):\n",
    "    for t in range(sh[1]):\n",
    "        for z in range(sh[2]):\n",
    "            final_registered_IMGS_chs[t, z, ch] = registered_IMGS_chs[ch, t, z]"
   ]
  },
  {
   "cell_type": "markdown",
   "metadata": {},
   "source": [
    "### Save results\n",
    "\n",
    "Save the registered 5D hyperstack as a tif file. "
   ]
  },
  {
   "cell_type": "code",
   "execution_count": null,
   "metadata": {},
   "outputs": [],
   "source": [
    "fullpath = path_movies_reg_embcode + \".tif\"\n",
    "mdata = {\"axes\": \"TZCYX\", \"spacing\": zres, \"unit\": \"um\"}\n",
    "import tifffile\n",
    "\n",
    "tifffile.imwrite(\n",
    "    fullpath,\n",
    "    final_registered_IMGS_chs,\n",
    "    imagej=True,\n",
    "    resolution=(1 / xyres, 1 / xyres),\n",
    "    metadata=mdata,\n",
    ")\n",
    "remove_dir(path_movies_reg_embcode)"
   ]
  }
 ],
 "metadata": {
  "kernelspec": {
   "display_name": "Python 3.9.13 ('base')",
   "language": "python",
   "name": "python3"
  },
  "language_info": {
   "codemirror_mode": {
    "name": "ipython",
    "version": 3
   },
   "file_extension": ".py",
   "mimetype": "text/x-python",
   "name": "python",
   "nbconvert_exporter": "python",
   "pygments_lexer": "ipython3",
   "version": "3.9.13"
  },
  "orig_nbformat": 4,
  "vscode": {
   "interpreter": {
    "hash": "f1adbbdee7057fc0b601bacb5930d0e884eb28aab35deafc36dc30280db9ed65"
   }
  }
 },
 "nbformat": 4,
 "nbformat_minor": 2
}
